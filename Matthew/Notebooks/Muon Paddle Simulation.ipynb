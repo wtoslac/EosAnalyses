{
 "cells": [
  {
   "cell_type": "code",
   "execution_count": 1,
   "id": "9fafbdef-668a-4acf-8fdb-34b8b62f464f",
   "metadata": {},
   "outputs": [
    {
     "name": "stdout",
     "output_type": "stream",
     "text": [
      "Welcome to JupyROOT 6.28/13\n"
     ]
    },
    {
     "name": "stderr",
     "output_type": "stream",
     "text": [
      "Error in <TInterpreter::TCling::AutoLoad>: failure loading library libRATDict.so for RAT::DS::Run\n",
      "Error in <TInterpreter::TCling::AutoLoad>: failure loading library libRATDict.so for RAT::DS::Run\n",
      "Warning in <TClass::Init>: no dictionary for class RAT::DS::Run is available\n",
      "Error in <TInterpreter::TCling::AutoLoad>: failure loading library libRATDict.so for RAT::DS::PMTInfo\n",
      "Error in <TInterpreter::TCling::AutoLoad>: failure loading library libRATDict.so for RAT::DS::PMTInfo\n",
      "Warning in <TClass::Init>: no dictionary for class RAT::DS::PMTInfo is available\n",
      "Error in <TInterpreter::TCling::AutoLoad>: failure loading library libRATDict.so for RAT::DS::Root\n",
      "Error in <TInterpreter::TCling::AutoLoad>: failure loading library libRATDict.so for RAT::DS::Root\n",
      "Warning in <TClass::Init>: no dictionary for class RAT::DS::Root is available\n",
      "Error in <TInterpreter::TCling::AutoLoad>: failure loading library libRATDict.so for RAT::DS::MC\n",
      "Error in <TInterpreter::TCling::AutoLoad>: failure loading library libRATDict.so for RAT::DS::MC\n",
      "Warning in <TClass::Init>: no dictionary for class RAT::DS::MC is available\n",
      "Error in <TInterpreter::TCling::AutoLoad>: failure loading library libRATDict.so for RAT::DS::MCSummary\n",
      "Error in <TInterpreter::TCling::AutoLoad>: failure loading library libRATDict.so for RAT::DS::MCSummary\n",
      "Warning in <TClass::Init>: no dictionary for class RAT::DS::MCSummary is available\n",
      "Error in <TInterpreter::TCling::AutoLoad>: failure loading library libRATDict.so for RAT::DS::MCParticle\n",
      "Error in <TInterpreter::TCling::AutoLoad>: failure loading library libRATDict.so for RAT::DS::MCParticle\n",
      "Warning in <TClass::Init>: no dictionary for class RAT::DS::MCParticle is available\n",
      "Error in <TInterpreter::TCling::AutoLoad>: failure loading library libRATDict.so for RAT::DS::MCTrack\n",
      "Error in <TInterpreter::TCling::AutoLoad>: failure loading library libRATDict.so for RAT::DS::MCTrack\n",
      "Warning in <TClass::Init>: no dictionary for class RAT::DS::MCTrack is available\n",
      "Error in <TInterpreter::TCling::AutoLoad>: failure loading library libRATDict.so for RAT::DS::MCTrackStep\n",
      "Error in <TInterpreter::TCling::AutoLoad>: failure loading library libRATDict.so for RAT::DS::MCTrackStep\n",
      "Warning in <TClass::Init>: no dictionary for class RAT::DS::MCTrackStep is available\n",
      "Error in <TInterpreter::TCling::AutoLoad>: failure loading library libRATDict.so for RAT::DS::MCPMT\n",
      "Error in <TInterpreter::TCling::AutoLoad>: failure loading library libRATDict.so for RAT::DS::MCPMT\n",
      "Warning in <TClass::Init>: no dictionary for class RAT::DS::MCPMT is available\n",
      "Error in <TInterpreter::TCling::AutoLoad>: failure loading library libRATDict.so for RAT::DS::MCPhoton\n",
      "Error in <TInterpreter::TCling::AutoLoad>: failure loading library libRATDict.so for RAT::DS::MCPhoton\n",
      "Warning in <TClass::Init>: no dictionary for class RAT::DS::MCPhoton is available\n",
      "Error in <TInterpreter::TCling::AutoLoad>: failure loading library libRATDict.so for RAT::DS::Calib\n",
      "Error in <TInterpreter::TCling::AutoLoad>: failure loading library libRATDict.so for RAT::DS::Calib\n",
      "Warning in <TClass::Init>: no dictionary for class RAT::DS::Calib is available\n",
      "Error in <TInterpreter::TCling::AutoLoad>: failure loading library libRATDict.so for RAT::DS::EV\n",
      "Error in <TInterpreter::TCling::AutoLoad>: failure loading library libRATDict.so for RAT::DS::EV\n",
      "Warning in <TClass::Init>: no dictionary for class RAT::DS::EV is available\n",
      "Error in <TInterpreter::TCling::AutoLoad>: failure loading library libRATDict.so for RAT::DS::PMT\n",
      "Error in <TInterpreter::TCling::AutoLoad>: failure loading library libRATDict.so for RAT::DS::PMT\n",
      "Warning in <TClass::Init>: no dictionary for class RAT::DS::PMT is available\n",
      "Error in <TInterpreter::TCling::AutoLoad>: failure loading library libRATDict.so for RAT::DS::DigitPMT\n",
      "Error in <TInterpreter::TCling::AutoLoad>: failure loading library libRATDict.so for RAT::DS::DigitPMT\n",
      "Warning in <TClass::Init>: no dictionary for class RAT::DS::DigitPMT is available\n",
      "Error in <TInterpreter::TCling::AutoLoad>: failure loading library libRATDict.so for RAT::DS::LAPPD\n",
      "Error in <TInterpreter::TCling::AutoLoad>: failure loading library libRATDict.so for RAT::DS::LAPPD\n",
      "Warning in <TClass::Init>: no dictionary for class RAT::DS::LAPPD is available\n",
      "Error in <TInterpreter::TCling::AutoLoad>: failure loading library libRATDict.so for RAT::DS::LAPPDHit\n",
      "Error in <TInterpreter::TCling::AutoLoad>: failure loading library libRATDict.so for RAT::DS::LAPPDHit\n",
      "Warning in <TClass::Init>: no dictionary for class RAT::DS::LAPPDHit is available\n",
      "Error in <TInterpreter::TCling::AutoLoad>: failure loading library libRATDict.so for RAT::DS::FitResult\n",
      "Error in <TInterpreter::TCling::AutoLoad>: failure loading library libRATDict.so for RAT::DS::FitResult\n",
      "Warning in <TClass::Init>: no dictionary for class RAT::DS::FitResult is available\n",
      "Warning in <TClass::Init>: no dictionary for class pair<string,RAT::DS::Classifier> is available\n",
      "Error in <TInterpreter::TCling::AutoLoad>: failure loading library libRATDict.so for RAT::DS::Classifier\n",
      "Error in <TInterpreter::TCling::AutoLoad>: failure loading library libRATDict.so for RAT::DS::Classifier\n",
      "Warning in <TClass::Init>: no dictionary for class RAT::DS::Classifier is available\n",
      "Error in <TInterpreter::TCling::AutoLoad>: failure loading library libRATDict.so for RAT::DS::Digit\n",
      "Error in <TInterpreter::TCling::AutoLoad>: failure loading library libRATDict.so for RAT::DS::Digit\n",
      "Warning in <TClass::Init>: no dictionary for class RAT::DS::Digit is available\n",
      "Error in <TInterpreter::TCling::AutoLoad>: failure loading library libRATDict.so for RAT::ObjInt\n",
      "Error in <TInterpreter::TCling::AutoLoad>: failure loading library libRATDict.so for RAT::ObjInt\n",
      "Warning in <TClass::Init>: no dictionary for class RAT::ObjInt is available\n"
     ]
    },
    {
     "ename": "NameError",
     "evalue": "name 'tracking' is not defined",
     "output_type": "error",
     "traceback": [
      "\u001b[0;31m---------------------------------------------------------------------------\u001b[0m",
      "\u001b[0;31mNameError\u001b[0m                                 Traceback (most recent call last)",
      "Cell \u001b[0;32mIn[1], line 12\u001b[0m\n\u001b[1;32m      7\u001b[0m \u001b[38;5;66;03m#data = ROOT.RDataFrame(\"T\", filepath)\u001b[39;00m\n\u001b[1;32m      8\u001b[0m \u001b[38;5;66;03m#tracking = data.AsNumpy(columns=[\"mc.track\"])[\"mc.track\"]\u001b[39;00m\n\u001b[1;32m     10\u001b[0m dataFile \u001b[38;5;241m=\u001b[39m ROOT\u001b[38;5;241m.\u001b[39mTFile\u001b[38;5;241m.\u001b[39mOpen(filepath, \u001b[38;5;124m\"\u001b[39m\u001b[38;5;124mr\u001b[39m\u001b[38;5;124m\"\u001b[39m)\n\u001b[0;32m---> 12\u001b[0m \u001b[38;5;28mprint\u001b[39m(\u001b[43mtracking\u001b[49m)\n",
      "\u001b[0;31mNameError\u001b[0m: name 'tracking' is not defined"
     ]
    }
   ],
   "source": [
    "import ROOT\n",
    "import matplotlib.pyplot as plt\n",
    "import math\n",
    "\n",
    "filepath = \"/home/mpearson5/EOS/RatpacExperiment/macros/muonTest2.root\"\n",
    "\n",
    "#data = ROOT.RDataFrame(\"T\", filepath)\n",
    "#tracking = data.AsNumpy(columns=[\"mc.track\"])[\"mc.track\"]\n",
    "\n",
    "dataFile = ROOT.TFile.Open(filepath, \"r\")\n",
    "\n",
    "print(tracking)\n"
   ]
  }
 ],
 "metadata": {
  "kernelspec": {
   "display_name": "Python 3 (ipykernel)",
   "language": "python",
   "name": "python3"
  },
  "language_info": {
   "codemirror_mode": {
    "name": "ipython",
    "version": 3
   },
   "file_extension": ".py",
   "mimetype": "text/x-python",
   "name": "python",
   "nbconvert_exporter": "python",
   "pygments_lexer": "ipython3",
   "version": "3.10.12"
  }
 },
 "nbformat": 4,
 "nbformat_minor": 5
}
