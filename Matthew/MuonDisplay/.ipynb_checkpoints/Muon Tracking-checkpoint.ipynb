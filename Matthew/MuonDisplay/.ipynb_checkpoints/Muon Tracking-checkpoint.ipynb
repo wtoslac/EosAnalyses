{
 "cells": [
  {
   "cell_type": "code",
   "execution_count": 1,
   "id": "bbf75813-a4ca-471d-86cf-044071daa1da",
   "metadata": {},
   "outputs": [
    {
     "name": "stdout",
     "output_type": "stream",
     "text": [
      "Welcome to JupyROOT 6.28/13\n"
     ]
    }
   ],
   "source": [
    "import ROOT\n",
    "import numpy as np\n",
    "import matplotlib.pyplot as plt\n",
    "from matplotlib.patches import Rectangle\n",
    "import matplotlib as mpl\n",
    "import os\n",
    "import argparse\n",
    "import math\n",
    "import random\n",
    "import MUONPADDLESPECS\n",
    "\n",
    "muonTrigger = []\n",
    "muonPanelPosition = []\n",
    "\n",
    "def fillRandom():\n",
    "    for i in range(73):\n",
    "        rand1 = random.randint(0,10)\n",
    "        rand2 = random.randint(0,10)\n",
    "        muonTrigger.append((True if rand1 > 5 else False, True if rand2 > 5 else False))\n",
    "        muonPanelPosition.append((0,0,0))"
   ]
  },
  {
   "cell_type": "code",
   "execution_count": 12,
   "id": "392c278e-5c75-4d4a-8773-9dbdda71879f",
   "metadata": {},
   "outputs": [
    {
     "ename": "AttributeError",
     "evalue": "module 'MUONPADDLESPECS' has no attribute 'muonPaddleAngle'",
     "output_type": "error",
     "traceback": [
      "\u001b[0;31m---------------------------------------------------------------------------\u001b[0m",
      "\u001b[0;31mAttributeError\u001b[0m                            Traceback (most recent call last)",
      "Cell \u001b[0;32mIn[12], line 1\u001b[0m\n\u001b[0;32m----> 1\u001b[0m \u001b[38;5;28;01mfor\u001b[39;00m x,y,z,theta \u001b[38;5;129;01min\u001b[39;00m \u001b[38;5;28mzip\u001b[39m(MUONPADDLESPECS\u001b[38;5;241m.\u001b[39mmuonPaddlePosx, MUONPADDLESPECS\u001b[38;5;241m.\u001b[39mmuonPaddlePosy, MUONPADDLESPECS\u001b[38;5;241m.\u001b[39mmuonPaddlePosz, \u001b[43mMUONPADDLESPECS\u001b[49m\u001b[38;5;241;43m.\u001b[39;49m\u001b[43mmuonPaddleAngle\u001b[49m):\n\u001b[1;32m      2\u001b[0m     \u001b[38;5;28mprint\u001b[39m(test)\n",
      "\u001b[0;31mAttributeError\u001b[0m: module 'MUONPADDLESPECS' has no attribute 'muonPaddleAngle'"
     ]
    }
   ],
   "source": [
    "for x,y,z,theta in zip(MUONPADDLESPECS.muonPaddlePosx, MUONPADDLESPECS.muonPaddlePosy, MUONPADDLESPECS.muonPaddlePosz, MUONPADDLESPECS.muonPaddleAngle):\n",
    "    print(test)"
   ]
  }
 ],
 "metadata": {
  "kernelspec": {
   "display_name": "Python 3 (ipykernel)",
   "language": "python",
   "name": "python3"
  },
  "language_info": {
   "codemirror_mode": {
    "name": "ipython",
    "version": 3
   },
   "file_extension": ".py",
   "mimetype": "text/x-python",
   "name": "python",
   "nbconvert_exporter": "python",
   "pygments_lexer": "ipython3",
   "version": "3.10.12"
  }
 },
 "nbformat": 4,
 "nbformat_minor": 5
}
