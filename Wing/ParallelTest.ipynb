{
 "cells": [
  {
   "cell_type": "code",
   "execution_count": 1,
   "id": "5acb5083-bbc4-411c-a21b-fe88d94065fa",
   "metadata": {},
   "outputs": [
    {
     "name": "stdout",
     "output_type": "stream",
     "text": [
      "Starting 4 engines with <class 'ipyparallel.cluster.launcher.LocalEngineSetLauncher'>\n"
     ]
    },
    {
     "data": {
      "application/vnd.jupyter.widget-view+json": {
       "model_id": "bb9c95a7911c4a78ad35c124fa3fbf62",
       "version_major": 2,
       "version_minor": 0
      },
      "text/plain": [
       "  0%|          | 0/4 [00:00<?, ?engine/s]"
      ]
     },
     "metadata": {},
     "output_type": "display_data"
    },
    {
     "data": {
      "application/vnd.jupyter.widget-view+json": {
       "model_id": "a763289a6a794e73b02c6ded8b239472",
       "version_major": 2,
       "version_minor": 0
      },
      "text/plain": [
       "sleep:   0%|          | 0/25 [00:00<?, ?tasks/s]"
      ]
     },
     "metadata": {},
     "output_type": "display_data"
    },
    {
     "name": "stdout",
     "output_type": "stream",
     "text": [
      "Stopping engine(s): 1721348829\n",
      "engine set stopped 1721348829: {'engines': {'0': {'exit_code': 0, 'pid': 1478473, 'identifier': '0'}, '1': {'exit_code': 0, 'pid': 1478483, 'identifier': '1'}, '2': {'exit_code': 0, 'pid': 1478485, 'identifier': '2'}, '3': {'exit_code': 0, 'pid': 1478487, 'identifier': '3'}}, 'exit_code': 0}\n",
      "Stopping controller\n",
      "Controller stopped: {'exit_code': 0, 'pid': 1478368, 'identifier': 'ipcontroller-1721348828-u4ls-1478215'}\n"
     ]
    }
   ],
   "source": [
    "import time\n",
    "import ipyparallel as ipp\n",
    "\n",
    "task_durations = [1] * 25\n",
    "# request a cluster\n",
    "with ipp.Cluster(n=4) as rc:\n",
    "    # get a view on the cluster\n",
    "    view = rc.load_balanced_view()\n",
    "    # submit the tasks\n",
    "    asyncresult = view.map_async(time.sleep, task_durations)\n",
    "    # wait interactively for results\n",
    "    asyncresult.wait_interactive()\n",
    "    # retrieve actual results\n",
    "    result = asyncresult.get()\n",
    "# at this point, the cluster processes have been shutdown"
   ]
  },
  {
   "cell_type": "code",
   "execution_count": null,
   "id": "e9900fbc-5c09-4339-b67c-a4e99d6dfaa9",
   "metadata": {},
   "outputs": [],
   "source": []
  }
 ],
 "metadata": {
  "kernelspec": {
   "display_name": "Python 3 (ipykernel)",
   "language": "python",
   "name": "python3"
  },
  "language_info": {
   "codemirror_mode": {
    "name": "ipython",
    "version": 3
   },
   "file_extension": ".py",
   "mimetype": "text/x-python",
   "name": "python",
   "nbconvert_exporter": "python",
   "pygments_lexer": "ipython3",
   "version": "3.10.12"
  }
 },
 "nbformat": 4,
 "nbformat_minor": 5
}
