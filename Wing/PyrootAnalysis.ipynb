{
 "cells": [
  {
   "cell_type": "code",
   "execution_count": null,
   "id": "2cef26a5-b453-4ad8-be4b-85df7bd91aa5",
   "metadata": {},
   "outputs": [],
   "source": [
    "import ROOT\n",
    "f = ROOT.TFile.Open(\"output.ntuple.root\")\n",
    "output = f.Get(\"output\")\n",
    "c = ROOT.TCanvas(\"myCanvasName\",\"The Canvas Title\",800,600)\n",
    "output.Draw(\"nhits\")\n",
    "c.Draw()"
   ]
  },
  {
   "cell_type": "code",
   "execution_count": null,
   "id": "0243e13b-f32c-49c9-9d70-5a0922b4950a",
   "metadata": {},
   "outputs": [],
   "source": [
    "import ROOT\n",
    "f = ROOT.TFile.Open(\"muon_water_trig2.0.1000.root\")\n",
    "output = f.Get(\"output\")\n",
    "c2 = ROOT.TCanvas(\"Muon NHits\",\"Muon NHits\",800,600)\n",
    "output.Draw(\"nhits\")\n",
    "c2.Draw()"
   ]
  },
  {
   "cell_type": "code",
   "execution_count": null,
   "id": "583c000c-8fe2-480b-892f-1f69527af6f9",
   "metadata": {},
   "outputs": [],
   "source": [
    "import ROOT\n",
    "f = ROOT.TFile.Open(\"muon_water_trig2.0.1000_trk.root\")\n",
    "output = f.Get(\"output\")\n",
    "c3 = ROOT.TCanvas(\"Muon NHits 1000 Evts\",\"Muon NHits 1000 Events\",800,600)\n",
    "output.Draw(\"nhits\", \"nhits<300\")\n",
    "c3.Draw()"
   ]
  },
  {
   "cell_type": "code",
   "execution_count": null,
   "id": "fb1337cc-9dca-41b6-bf9e-6b80eef1ebe6",
   "metadata": {
    "editable": true,
    "slideshow": {
     "slide_type": ""
    },
    "tags": []
   },
   "outputs": [],
   "source": [
    "output.Print()"
   ]
  },
  {
   "cell_type": "code",
   "execution_count": null,
   "id": "35e28015-8ada-4284-a29e-005a211475e1",
   "metadata": {},
   "outputs": [],
   "source": [
    "import ROOT\n",
    "c3 = ROOT.TCanvas(\"mcPEx\",\"mcPEx\",800,600)\n",
    "output.Draw(\"mcPEx\", \"nhits<300\")\n",
    "c3.Draw()\n",
    "c4 = ROOT.TCanvas(\"mcPEz\",\"mcPEz\",800,600)\n",
    "output.Draw(\"mcPEz\", \"nhits<300\")\n",
    "c4.Draw()\n",
    "\n",
    "c5 = ROOT.TCanvas(\"mcPEy\",\"mcPEy\",800,600)\n",
    "output.Draw(\"mcPEy\", \"nhits<300\")\n",
    "c5.Draw()"
   ]
  },
  {
   "cell_type": "code",
   "execution_count": null,
   "id": "faccce0b-1176-4e96-9346-368efcaab856",
   "metadata": {},
   "outputs": [],
   "source": [
    "c5 = ROOT.TCanvas(\"mcpdg\",\"mcpdg\",800,600)\n",
    "output.Draw(\"mcpdg\", \"nhits < 300\")\n",
    "c5.SetLogy();\n",
    "c5.Draw()"
   ]
  },
  {
   "cell_type": "code",
   "execution_count": null,
   "id": "6633f500-3ba9-4b60-b5c2-c7f94036e5be",
   "metadata": {},
   "outputs": [],
   "source": [
    "c5 = ROOT.TCanvas(\"trackPDG\",\"trackPDG\",800,600)\n",
    "output.Draw(\"trackPDG\", \"nhits < 300\")\n",
    "c5.SetLogy();\n",
    "c5.Draw()"
   ]
  },
  {
   "cell_type": "code",
   "execution_count": null,
   "id": "6f18b60d-1a58-4bbb-9a23-d9b0b2b3b5fe",
   "metadata": {},
   "outputs": [],
   "source": [
    "import ROOT\n",
    "import numpy as np\n",
    "import matplotlib.pyplot as plt\n",
    "df = ROOT.RDataFrame(\"output\",\"muon_water_trig2.0.1000_trk.root\")\n",
    "nhits = df.AsNumpy(columns=[\"nhits\"])[\"nhits\"]\n",
    "print(nhits.shape)\n",
    "plt.hist(nhits, bins=np.arange(-0.5,255.5,10))\n",
    "plt.show()"
   ]
  },
  {
   "cell_type": "code",
   "execution_count": null,
   "id": "58d707e8-75e3-49ad-9902-1ed60ee424df",
   "metadata": {},
   "outputs": [],
   "source": [
    "import ROOT\n",
    "import numpy as np\n",
    "import matplotlib.pyplot as plt\n",
    "df = ROOT.RDataFrame(\"output\",\"muon_water_trig2.0.1000_trk.root\")\n",
    "df = df.Filter(\"nhits < 250\")\n",
    "mcpdg = df.AsNumpy(columns=[\"mcpdg\"])[\"mcpdg\"]\n",
    "print(mcpdg)\n",
    "plt.hist(mcpdg,bins=np.arange(-14,14,1))\n",
    "plt.show()"
   ]
  },
  {
   "cell_type": "code",
   "execution_count": 16,
   "id": "2c1b2053-f3b4-4512-9ca9-cfcbadb6989f",
   "metadata": {},
   "outputs": [
    {
     "name": "stdout",
     "output_type": "stream",
     "text": [
      "Reading in file  muon_water_trig2.0.1000_trk.root\n"
     ]
    },
    {
     "data": {
      "image/png": "[encoded data removed]",
      "text/plain": [
       "<Figure size 640x480 with 1 Axes>"
      ]
     },
     "metadata": {},
     "output_type": "display_data"
    }
   ],
   "source": [
    "import uproot\n",
    "import numpy  as np\n",
    "import matplotlib.pyplot as plt\n",
    "\n",
    "print('Reading in file ',\"muon_water_trig2.0.1000_trk.root\")\n",
    "\n",
    "nhits,pe,time =  np.array([]),np.array([]),np.array([])\n",
    "\n",
    "cut_cond = \"( (nhits>0) & (nhits<250) )\"\n",
    "\n",
    "for array1 in uproot.iterate(\"muon_water_trig2.0.1000_trk.root:output\",[\"nhits\",\"triggerTime\"],cut=cut_cond):\n",
    "    _E,_T = array1[\"nhits\"],array1[\"triggerTime\"] \n",
    "    nhits.resize(len(nhits)+len(_E))\n",
    "    nhits[-len(_E):] = _E\n",
    "    time.resize(len(time)+len(_T))\n",
    "    time[-len(_T):] = _T\n",
    "\n",
    "plt.hist(nhits, bins=np.arange(0,250,1))\n",
    "plt.xlabel(\"nhits\")\n",
    "plt.show()"
   ]
  },
  {
   "cell_type": "code",
   "execution_count": null,
   "id": "a8491516-e428-4555-bc19-79a1cabb0227",
   "metadata": {},
   "outputs": [],
   "source": []
  }
 ],
 "metadata": {
  "kernelspec": {
   "display_name": "Python 3 (ipykernel)",
   "language": "python",
   "name": "python3"
  },
  "language_info": {
   "codemirror_mode": {
    "name": "ipython",
    "version": 3
   },
   "file_extension": ".py",
   "mimetype": "text/x-python",
   "name": "python",
   "nbconvert_exporter": "python",
   "pygments_lexer": "ipython3",
   "version": "3.10.12"
  }
 },
 "nbformat": 4,
 "nbformat_minor": 5
}
