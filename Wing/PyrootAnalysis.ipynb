{
 "cells": [
  {
   "cell_type": "code",
   "execution_count": 3,
   "id": "2cef26a5-b453-4ad8-be4b-85df7bd91aa5",
   "metadata": {},
   "outputs": [
    {
     "name": "stdout",
     "output_type": "stream",
     "text": [
      "******************************************************************************\n",
      "*Tree    :output    : output                                                 *\n",
      "*Entries :    12617 : Total =        58567615 bytes  File  Size =   23697584 *\n",
      "*        :          : Tree compression factor =   2.47                       *\n",
      "******************************************************************************\n",
      "*Br    0 :mcpdg     : mcpdg/I                                                *\n",
      "*Entries :    12617 : Total  Size=      51101 bytes  File Size  =        468 *\n",
      "*Baskets :        2 : Basket Size=      32000 bytes  Compression= 108.15     *\n",
      "*............................................................................*\n",
      "*Br    1 :mcx       : mcx/D                                                  *\n",
      "*Entries :    12617 : Total  Size=     101709 bytes  File Size  =      80884 *\n",
      "*Baskets :        4 : Basket Size=      32000 bytes  Compression=   1.25     *\n",
      "*............................................................................*\n",
      "*Br    2 :mcy       : mcy/D                                                  *\n",
      "*Entries :    12617 : Total  Size=     101709 bytes  File Size  =      80861 *\n",
      "*Baskets :        4 : Basket Size=      32000 bytes  Compression=   1.25     *\n",
      "*............................................................................*\n",
      "*Br    3 :mcz       : mcz/D                                                  *\n",
      "*Entries :    12617 : Total  Size=     101709 bytes  File Size  =      80398 *\n",
      "*Baskets :        4 : Basket Size=      32000 bytes  Compression=   1.26     *\n",
      "*............................................................................*\n",
      "*Br    4 :mcu       : mcu/D                                                  *\n",
      "*Entries :    12617 : Total  Size=     101709 bytes  File Size  =      80306 *\n",
      "*Baskets :        4 : Basket Size=      32000 bytes  Compression=   1.26     *\n",
      "*............................................................................*\n",
      "*Br    5 :mcv       : mcv/D                                                  *\n",
      "*Entries :    12617 : Total  Size=     101709 bytes  File Size  =      80392 *\n",
      "*Baskets :        4 : Basket Size=      32000 bytes  Compression=   1.26     *\n",
      "*............................................................................*\n",
      "*Br    6 :mcw       : mcw/D                                                  *\n",
      "*Entries :    12617 : Total  Size=     101709 bytes  File Size  =      80394 *\n",
      "*Baskets :        4 : Basket Size=      32000 bytes  Compression=   1.26     *\n",
      "*............................................................................*\n",
      "*Br    7 :mcke      : mcke/D                                                 *\n",
      "*Entries :    12617 : Total  Size=     101717 bytes  File Size  =      77921 *\n",
      "*Baskets :        4 : Basket Size=      32000 bytes  Compression=   1.30     *\n",
      "*............................................................................*\n",
      "*Br    8 :mct       : mct/D                                                  *\n",
      "*Entries :    12617 : Total  Size=     101709 bytes  File Size  =        859 *\n",
      "*Baskets :        4 : Basket Size=      32000 bytes  Compression= 117.84     *\n",
      "*............................................................................*\n",
      "*Br    9 :evid      : evid/I                                                 *\n",
      "*Entries :    12617 : Total  Size=      51095 bytes  File Size  =      19585 *\n",
      "*Baskets :        2 : Basket Size=      32000 bytes  Compression=   2.58     *\n",
      "*............................................................................*\n",
      "*Br   10 :subev     : subev/I                                                *\n",
      "*Entries :    12617 : Total  Size=      51101 bytes  File Size  =       4508 *\n",
      "*Baskets :        2 : Basket Size=      32000 bytes  Compression=  11.23     *\n",
      "*............................................................................*\n",
      "*Br   11 :nhits     : nhits/I                                                *\n",
      "*Entries :    12617 : Total  Size=      51109 bytes  File Size  =      14340 *\n",
      "*Baskets :        2 : Basket Size=      32000 bytes  Compression=   3.53     *\n",
      "*............................................................................*\n",
      "*Br   12 :triggerTime : triggerTime/D                                        *\n",
      "*Entries :    12617 : Total  Size=     101773 bytes  File Size  =      43204 *\n",
      "*Baskets :        4 : Basket Size=      32000 bytes  Compression=   2.34     *\n",
      "*............................................................................*\n",
      "*Br   13 :mcparticlecount : mcparticlecount/I                                *\n",
      "*Entries :    12617 : Total  Size=      51161 bytes  File Size  =       4419 *\n",
      "*Baskets :        2 : Basket Size=      32000 bytes  Compression=  11.46     *\n",
      "*............................................................................*\n",
      "*Br   14 :mcpecount : mcpecount/I                                            *\n",
      "*Entries :    12617 : Total  Size=      51125 bytes  File Size  =      16869 *\n",
      "*Baskets :        2 : Basket Size=      32000 bytes  Compression=   3.00     *\n",
      "*............................................................................*\n",
      "*Br   15 :mcnhits   : mcnhits/I                                              *\n",
      "*Entries :    12617 : Total  Size=      51113 bytes  File Size  =      15411 *\n",
      "*Baskets :        2 : Basket Size=      32000 bytes  Compression=   3.28     *\n",
      "*............................................................................*\n",
      "*Br   16 :scintEdep : scintEdep/D                                            *\n",
      "*Entries :    12617 : Total  Size=     101757 bytes  File Size  =        883 *\n",
      "*Baskets :        4 : Basket Size=      32000 bytes  Compression= 114.66     *\n",
      "*............................................................................*\n",
      "*Br   17 :scintEdepQuenched : scintEdepQuenched/D                            *\n",
      "*Entries :    12617 : Total  Size=     101821 bytes  File Size  =        915 *\n",
      "*Baskets :        4 : Basket Size=      32000 bytes  Compression= 110.69     *\n",
      "*............................................................................*\n",
      "*Br   18 :scintPhotons : scintPhotons/D                                      *\n",
      "*Entries :    12617 : Total  Size=     101781 bytes  File Size  =        895 *\n",
      "*Baskets :        4 : Basket Size=      32000 bytes  Compression= 113.14     *\n",
      "*............................................................................*\n",
      "*Br   19 :remPhotons : remPhotons/D                                          *\n",
      "*Entries :    12617 : Total  Size=     101765 bytes  File Size  =        887 *\n",
      "*Baskets :        4 : Basket Size=      32000 bytes  Compression= 114.15     *\n",
      "*............................................................................*\n",
      "*Br   20 :cherPhotons : cherPhotons/D                                        *\n",
      "*Entries :    12617 : Total  Size=     101773 bytes  File Size  =      30231 *\n",
      "*Baskets :        4 : Basket Size=      32000 bytes  Compression=   3.35     *\n",
      "*............................................................................*\n",
      "*Br   21 :hitPMTID  : vector<int>                                            *\n",
      "*Entries :    12617 : Total  Size=    1452042 bytes  File Size  =     582157 *\n",
      "*Baskets :       47 : Basket Size=      32000 bytes  Compression=   2.49     *\n",
      "*............................................................................*\n",
      "*Br   22 :hitPMTTime : vector<double>                                        *\n",
      "*Entries :    12617 : Total  Size=    2726572 bytes  File Size  =    2472390 *\n",
      "*Baskets :       87 : Basket Size=      32000 bytes  Compression=   1.10     *\n",
      "*............................................................................*\n",
      "*Br   23 :hitPMTCharge : vector<double>                                      *\n",
      "*Entries :    12617 : Total  Size=    2726754 bytes  File Size  =    2554432 *\n",
      "*Baskets :       87 : Basket Size=      32000 bytes  Compression=   1.07     *\n",
      "*............................................................................*\n",
      "*Br   24 :hitPMTDigitizedTime : vector<double>                               *\n",
      "*Entries :    12617 : Total  Size=    2727391 bytes  File Size  =    2294718 *\n",
      "*Baskets :       87 : Basket Size=      32000 bytes  Compression=   1.19     *\n",
      "*............................................................................*\n",
      "*Br   25 :hitPMTDigitizedCharge : vector<double>                             *\n",
      "*Entries :    12617 : Total  Size=    2727573 bytes  File Size  =    1410339 *\n",
      "*Baskets :       87 : Basket Size=      32000 bytes  Compression=   1.93     *\n",
      "*............................................................................*\n",
      "*Br   26 :hitPMTNCrossings : vector<int>                                     *\n",
      "*Entries :    12617 : Total  Size=    1452450 bytes  File Size  =     167034 *\n",
      "*Baskets :       47 : Basket Size=      32000 bytes  Compression=   8.69     *\n",
      "*............................................................................*\n",
      "*Br   27 :mcPMTID   : vector<int>                                            *\n",
      "*Entries :    12617 : Total  Size=    2213643 bytes  File Size  =     676810 *\n",
      "*Baskets :       71 : Basket Size=      32000 bytes  Compression=   3.27     *\n",
      "*............................................................................*\n",
      "*Br   28 :mcPMTNPE  : vector<int>                                            *\n",
      "*Entries :    12617 : Total  Size=    2213718 bytes  File Size  =     334961 *\n",
      "*Baskets :       71 : Basket Size=      32000 bytes  Compression=   6.60     *\n",
      "*............................................................................*\n",
      "*Br   29 :mcPETime  : vector<double>                                         *\n",
      "*Entries :    12617 : Total  Size=    6933988 bytes  File Size  =    4497383 *\n",
      "*Baskets :      221 : Basket Size=      32000 bytes  Compression=   1.54     *\n",
      "*............................................................................*\n",
      "*Br   30 :mcPEProcess : vector<int>                                          *\n",
      "*Entries :    12617 : Total  Size=    3556195 bytes  File Size  =     168204 *\n",
      "*Baskets :      114 : Basket Size=      32000 bytes  Compression=  21.13     *\n",
      "*............................................................................*\n",
      "*Br   31 :mcPEWavelength : vector<double>                                    *\n",
      "*Entries :    12617 : Total  Size=    6935338 bytes  File Size  =    4674146 *\n",
      "*Baskets :      221 : Basket Size=      32000 bytes  Compression=   1.48     *\n",
      "*............................................................................*\n",
      "*Br   32 :mcPEx     : vector<double>                                         *\n",
      "*Entries :    12617 : Total  Size=    6933313 bytes  File Size  =     966077 *\n",
      "*Baskets :      221 : Basket Size=      32000 bytes  Compression=   7.17     *\n",
      "*............................................................................*\n",
      "*Br   33 :mcPEy     : vector<double>                                         *\n",
      "*Entries :    12617 : Total  Size=    6933313 bytes  File Size  =     957661 *\n",
      "*Baskets :      221 : Basket Size=      32000 bytes  Compression=   7.23     *\n",
      "*............................................................................*\n",
      "*Br   34 :mcPEz     : vector<double>                                         *\n",
      "*Entries :    12617 : Total  Size=    6933313 bytes  File Size  =     960882 *\n",
      "*Baskets :      221 : Basket Size=      32000 bytes  Compression=   7.21     *\n",
      "*............................................................................*\n",
      "*Br   35 :x_FitCentroid : x_FitCentroid/D                                    *\n",
      "*Entries :    12617 : Total  Size=     101789 bytes  File Size  =      82254 *\n",
      "*Baskets :        4 : Basket Size=      32000 bytes  Compression=   1.23     *\n",
      "*............................................................................*\n",
      "*Br   36 :y_FitCentroid : y_FitCentroid/D                                    *\n",
      "*Entries :    12617 : Total  Size=     101789 bytes  File Size  =      82266 *\n",
      "*Baskets :        4 : Basket Size=      32000 bytes  Compression=   1.23     *\n",
      "*............................................................................*\n",
      "*Br   37 :z_FitCentroid : z_FitCentroid/D                                    *\n",
      "*Entries :    12617 : Total  Size=     101789 bytes  File Size  =      82287 *\n",
      "*Baskets :        4 : Basket Size=      32000 bytes  Compression=   1.23     *\n",
      "*............................................................................*\n",
      "*Br   38 :validposition_FitCentroid : validposition_FitCentroid/O            *\n",
      "*Entries :    12617 : Total  Size=      13270 bytes  File Size  =        181 *\n",
      "*Baskets :        1 : Basket Size=      32000 bytes  Compression=  70.23     *\n",
      "*............................................................................*\n"
     ]
    },
    {
     "name": "stderr",
     "output_type": "stream",
     "text": [
      "Warning in <TCanvas::Constructor>: Deleting canvas with same name: myCanvasName\n"
     ]
    },
    {
     "data": {
      "image/png": "[encoded data removed]",
      "text/plain": [
       "<IPython.core.display.Image object>"
      ]
     },
     "metadata": {},
     "output_type": "display_data"
    }
   ],
   "source": [
    "import ROOT\n",
    "f = ROOT.TFile.Open(\"output.ntuple.root\")\n",
    "output = f.Get(\"output\")\n",
    "c = ROOT.TCanvas(\"myCanvasName\",\"The Canvas Title\",800,600)\n",
    "output.Draw(\"nhits\")\n",
    "c.Draw()\n",
    "output.Print()"
   ]
  },
  {
   "cell_type": "code",
   "execution_count": null,
   "id": "0243e13b-f32c-49c9-9d70-5a0922b4950a",
   "metadata": {},
   "outputs": [],
   "source": [
    "import ROOT\n",
    "f = ROOT.TFile.Open(\"muon_water_trig2.0.1000.root\")\n",
    "output = f.Get(\"output\")\n",
    "c2 = ROOT.TCanvas(\"Muon NHits\",\"Muon NHits\",800,600)\n",
    "output.Draw(\"nhits\")\n",
    "c2.Draw()"
   ]
  },
  {
   "cell_type": "code",
   "execution_count": null,
   "id": "583c000c-8fe2-480b-892f-1f69527af6f9",
   "metadata": {},
   "outputs": [],
   "source": [
    "import ROOT\n",
    "f = ROOT.TFile.Open(\"muon_water_trig2.0.1000_trk.root\")\n",
    "output = f.Get(\"output\")\n",
    "c3 = ROOT.TCanvas(\"Muon NHits 1000 Evts\",\"Muon NHits 1000 Events\",800,600)\n",
    "output.Draw(\"nhits\", \"nhits<300\")\n",
    "c3.Draw()"
   ]
  },
  {
   "cell_type": "code",
   "execution_count": null,
   "id": "35e28015-8ada-4284-a29e-005a211475e1",
   "metadata": {},
   "outputs": [],
   "source": [
    "import ROOT\n",
    "c3 = ROOT.TCanvas(\"mcPEx\",\"mcPEx\",800,600)\n",
    "output.Draw(\"mcPEx\", \"nhits<300\")\n",
    "c3.Draw()\n",
    "c4 = ROOT.TCanvas(\"mcPEz\",\"mcPEz\",800,600)\n",
    "output.Draw(\"mcPEz\", \"nhits<300\")\n",
    "c4.Draw()\n",
    "\n",
    "c5 = ROOT.TCanvas(\"mcPEy\",\"mcPEy\",800,600)\n",
    "output.Draw(\"mcPEy\", \"nhits<300\")\n",
    "c5.Draw()"
   ]
  },
  {
   "cell_type": "code",
   "execution_count": null,
   "id": "faccce0b-1176-4e96-9346-368efcaab856",
   "metadata": {},
   "outputs": [],
   "source": [
    "c5 = ROOT.TCanvas(\"mcpdg\",\"mcpdg\",800,600)\n",
    "output.Draw(\"mcpdg\", \"nhits < 300\")\n",
    "c5.SetLogy();\n",
    "c5.Draw()"
   ]
  },
  {
   "cell_type": "code",
   "execution_count": null,
   "id": "6633f500-3ba9-4b60-b5c2-c7f94036e5be",
   "metadata": {},
   "outputs": [],
   "source": [
    "c5 = ROOT.TCanvas(\"trackPDG\",\"trackPDG\",800,600)\n",
    "output.Draw(\"trackPDG\", \"nhits < 300\")\n",
    "c5.SetLogy();\n",
    "c5.Draw()"
   ]
  },
  {
   "cell_type": "code",
   "execution_count": null,
   "id": "6f18b60d-1a58-4bbb-9a23-d9b0b2b3b5fe",
   "metadata": {},
   "outputs": [],
   "source": [
    "import ROOT\n",
    "import numpy as np\n",
    "import matplotlib.pyplot as plt\n",
    "df = ROOT.RDataFrame(\"output\",\"muon_water_trig2.0.1000_trk.root\")\n",
    "nhits = df.AsNumpy(columns=[\"nhits\"])[\"nhits\"]\n",
    "print(nhits.shape)\n",
    "plt.hist(nhits, bins=np.arange(-0.5,255.5,10))\n",
    "plt.show()"
   ]
  },
  {
   "cell_type": "code",
   "execution_count": 28,
   "id": "789efd69-be40-47c8-8109-601c2ab47aab",
   "metadata": {},
   "outputs": [
    {
     "data": {
      "image/png": "[encoded data removed]",
      "text/plain": [
       "<Figure size 640x480 with 1 Axes>"
      ]
     },
     "metadata": {},
     "output_type": "display_data"
    },
    {
     "name": "stderr",
     "output_type": "stream",
     "text": [
      "Error in <TInterpreter::TCling::AutoLoad>: failure loading library libRATDict.so for vector<vector<int> >\n"
     ]
    }
   ],
   "source": [
    "import ROOT\n",
    "import numpy as np\n",
    "import matplotlib.pyplot as plt\n",
    "df = ROOT.RDataFrame(\"output\",\"muon_water_trig2.0.1000_trk.root\")\n",
    "mcke = df.AsNumpy(columns=[\"mcke\"])[\"mcke\"]\n",
    "mcpdg = df.AsNumpy(columns=[\"mcpdg\"])[\"mcpdg\"]\n",
    "plt.hist(mcke, bins=np.arange(-0.5,20000,400))\n",
    "ax =plt.gca()\n",
    "histy,histx = np.histogram(mcke, bins=np.arange(-0.5,20000,400))\n",
    "plt.xlabel(\"mcke\")\n",
    "bin_centers =[]\n",
    "for ie in range(1,len(histx)):\n",
    "    bin_centers.append((histx[ie]+histx[ie-1])/2)\n",
    "bin_centers = np.array(bin_centers)\n",
    "#print(bin_centers)\n",
    "\n",
    "from scipy.optimize import curve_fit\n",
    "def expfit(x,a,b,mean):\n",
    "    return a+b*np.exp(mean*x)\n",
    "\n",
    "param0 = (0,100,-0.0001)\n",
    "paramfit, paramErr = curve_fit(expfit,bin_centers,histy,param0)\n",
    "#print(paramfit[2])\n",
    "#print(3*paramfit[2])\n",
    "fitfun = expfit(bin_centers,paramfit[0],paramfit[1],paramfit[2])\n",
    "plt.plot(bin_centers, fitfun, \"r-\")\n",
    "plt.text(0.6,0.9,\"$\\mu=$\"+ str(1/paramfit[2]), transform=ax.transAxes)\n",
    "plt.show()\n",
    "\n"
   ]
  },
  {
   "cell_type": "code",
   "execution_count": 19,
   "id": "460c86d0-bbbf-4ae1-adc0-44a44731046a",
   "metadata": {},
   "outputs": [
    {
     "data": {
      "image/png": "[encoded data removed]",
      "text/plain": [
       "<Figure size 640x480 with 1 Axes>"
      ]
     },
     "metadata": {},
     "output_type": "display_data"
    },
    {
     "name": "stdout",
     "output_type": "stream",
     "text": [
      "(1007,)\n",
      "(1007,)\n"
     ]
    }
   ],
   "source": [
    "\n",
    "plt.hist(mcpdg, bins=np.arange(-25,25,1))\n",
    "plt.yscale(\"log\")\n",
    "plt.xlabel(\"mcpdg\")\n",
    "plt.show()\n",
    "print(mcke.shape)\n",
    "print(mcpdg.shape)"
   ]
  },
  {
   "cell_type": "code",
   "execution_count": null,
   "id": "58d707e8-75e3-49ad-9902-1ed60ee424df",
   "metadata": {},
   "outputs": [],
   "source": [
    "import ROOT\n",
    "import numpy as np\n",
    "import matplotlib.pyplot as plt\n",
    "df = ROOT.RDataFrame(\"output\",\"muon_water_trig2.0.1000_trk.root\")\n",
    "df = df.Filter(\"nhits < 250\")\n",
    "mcpdg = df.AsNumpy(columns=[\"mcpdg\"])[\"mcpdg\"]\n",
    "print(mcpdg)\n",
    "plt.hist(mcpdg,bins=np.arange(-14,14,1))\n",
    "plt.show()"
   ]
  },
  {
   "cell_type": "code",
   "execution_count": 16,
   "id": "2c1b2053-f3b4-4512-9ca9-cfcbadb6989f",
   "metadata": {},
   "outputs": [
    {
     "name": "stdout",
     "output_type": "stream",
     "text": [
      "Reading in file  muon_water_trig2.0.1000_trk.root\n"
     ]
    },
    {
     "data": {
      "image/png": "[encoded data removed]",
      "text/plain": [
       "<Figure size 640x480 with 1 Axes>"
      ]
     },
     "metadata": {},
     "output_type": "display_data"
    }
   ],
   "source": [
    "import uproot\n",
    "import numpy  as np\n",
    "import matplotlib.pyplot as plt\n",
    "\n",
    "print('Reading in file ',\"muon_water_trig2.0.1000_trk.root\")\n",
    "\n",
    "nhits,pe,time =  np.array([]),np.array([]),np.array([])\n",
    "\n",
    "cut_cond = \"( (nhits>0) & (nhits<250) )\"\n",
    "\n",
    "for array1 in uproot.iterate(\"muon_water_trig2.0.1000_trk.root:output\",[\"nhits\",\"triggerTime\"],cut=cut_cond):\n",
    "    _E,_T = array1[\"nhits\"],array1[\"triggerTime\"] \n",
    "    nhits.resize(len(nhits)+len(_E))\n",
    "    nhits[-len(_E):] = _E\n",
    "    time.resize(len(time)+len(_T))\n",
    "    time[-len(_T):] = _T\n",
    "\n",
    "plt.hist(nhits, bins=np.arange(0,250,1))\n",
    "plt.xlabel(\"nhits\")\n",
    "plt.show()"
   ]
  },
  {
   "cell_type": "code",
   "execution_count": null,
   "id": "a8491516-e428-4555-bc19-79a1cabb0227",
   "metadata": {},
   "outputs": [],
   "source": []
  }
 ],
 "metadata": {
  "kernelspec": {
   "display_name": "Python 3 (ipykernel)",
   "language": "python",
   "name": "python3"
  },
  "language_info": {
   "codemirror_mode": {
    "name": "ipython",
    "version": 3
   },
   "file_extension": ".py",
   "mimetype": "text/x-python",
   "name": "python",
   "nbconvert_exporter": "python",
   "pygments_lexer": "ipython3",
   "version": "3.10.12"
  }
 },
 "nbformat": 4,
 "nbformat_minor": 5
}
