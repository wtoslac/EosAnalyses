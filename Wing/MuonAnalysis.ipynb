{
 "cells": [
  {
   "cell_type": "markdown",
   "id": "406539f2-8ed7-4c17-b398-cc12ef4eeb44",
   "metadata": {},
   "source": [
    "### Printing out the Branches in the data."
   ]
  },
  {
   "cell_type": "code",
   "execution_count": 13,
   "id": "2cef26a5-b453-4ad8-be4b-85df7bd91aa5",
   "metadata": {},
   "outputs": [
    {
     "name": "stdout",
     "output_type": "stream",
     "text": [
      "******************************************************************************\n",
      "*Tree    :events    : events                                                 *\n",
      "*Entries :     8436 : Total =       126980201 bytes  File  Size =   37367136 *\n",
      "*        :          : Tree compression factor =   3.40                       *\n",
      "******************************************************************************\n",
      "*Br    0 :event_number : event_number/I                                      *\n",
      "*Entries :     8436 : Total  Size=      34419 bytes  File Size  =      12007 *\n",
      "*Baskets :        2 : Basket Size=      51200 bytes  Compression=   2.82     *\n",
      "*............................................................................*\n",
      "*Br    1 :nhit      : nhit/I                                                 *\n",
      "*Entries :     8436 : Total  Size=      34371 bytes  File Size  =      12831 *\n",
      "*Baskets :        2 : Basket Size=      51200 bytes  Compression=   2.64     *\n",
      "*............................................................................*\n",
      "*Br    2 :total_charge : total_charge/D                                      *\n",
      "*Entries :     8436 : Total  Size=      68252 bytes  File Size  =      51922 *\n",
      "*Baskets :        3 : Basket Size=      51200 bytes  Compression=   1.30     *\n",
      "*............................................................................*\n",
      "*Br    3 :deltat    : deltat/D                                               *\n",
      "*Entries :     8436 : Total  Size=      68210 bytes  File Size  =      35912 *\n",
      "*Baskets :        3 : Basket Size=      51200 bytes  Compression=   1.89     *\n",
      "*............................................................................*\n",
      "*Br    4 :channel   : vector<int>                                            *\n",
      "*Entries :     8436 : Total  Size=    5122781 bytes  File Size  =     830200 *\n",
      "*Baskets :      131 : Basket Size=    2377728 bytes  Compression=   6.17     *\n",
      "*............................................................................*\n",
      "*Br    5 :board     : vector<int>                                            *\n",
      "*Entries :     8436 : Total  Size=    5122511 bytes  File Size  =     521046 *\n",
      "*Baskets :      131 : Basket Size=    2377728 bytes  Compression=   9.83     *\n",
      "*............................................................................*\n",
      "*Br    6 :lcn       : vector<int>                                            *\n",
      "*Entries :     8436 : Total  Size=    5122241 bytes  File Size  =    1379173 *\n",
      "*Baskets :      131 : Basket Size=    2377728 bytes  Compression=   3.71     *\n",
      "*............................................................................*\n",
      "*Br    7 :time      : vector<double>                                         *\n",
      "*Entries :     8436 : Total  Size=   10126141 bytes  File Size  =    9218552 *\n",
      "*Baskets :      260 : Basket Size=    4647424 bytes  Compression=   1.10     *\n",
      "*............................................................................*\n",
      "*Br    8 :channel15_time : vector<double>                                    *\n",
      "*Entries :     8436 : Total  Size=   10128781 bytes  File Size  =     276636 *\n",
      "*Baskets :      260 : Basket Size=    4648960 bytes  Compression=  36.59     *\n",
      "*............................................................................*\n",
      "*Br    9 :pedestal  : vector<double>                                         *\n",
      "*Entries :     8436 : Total  Size=   10127197 bytes  File Size  =    3630368 *\n",
      "*Baskets :      260 : Basket Size=    4647936 bytes  Compression=   2.79     *\n",
      "*............................................................................*\n",
      "*Br   10 :charge    : vector<double>                                         *\n",
      "*Entries :     8436 : Total  Size=   10126669 bytes  File Size  =    6190455 *\n",
      "*Baskets :      260 : Basket Size=    4647936 bytes  Compression=   1.63     *\n",
      "*............................................................................*\n",
      "*Br   11 :charge_short : vector<double>                                      *\n",
      "*Entries :     8436 : Total  Size=   10128253 bytes  File Size  =    6093523 *\n",
      "*Baskets :      260 : Basket Size=    4648960 bytes  Compression=   1.66     *\n",
      "*............................................................................*\n",
      "*Br   12 :ncrossings : vector<double>                                        *\n",
      "*Entries :     8436 : Total  Size=   10127725 bytes  File Size  =    1347223 *\n",
      "*Baskets :      260 : Basket Size=    4648448 bytes  Compression=   7.51     *\n",
      "*............................................................................*\n",
      "*Br   13 :pulse_height : vector<double>                                      *\n",
      "*Entries :     8436 : Total  Size=   10128253 bytes  File Size  =    6060084 *\n",
      "*Baskets :      260 : Basket Size=    4648960 bytes  Compression=   1.67     *\n",
      "*............................................................................*\n",
      "*Br   14 :fitted_pulse_height : vector<double>                               *\n",
      "*Entries :     8436 : Total  Size=   10130101 bytes  File Size  =     216777 *\n",
      "*Baskets :      260 : Basket Size=    4649984 bytes  Compression=  46.70     *\n",
      "*............................................................................*\n",
      "*Br   15 :trigger_time : vector<unsigned long>                               *\n",
      "*Entries :     8436 : Total  Size=   10128253 bytes  File Size  =    1035523 *\n",
      "*Baskets :      260 : Basket Size=    4648960 bytes  Compression=   9.78     *\n",
      "*............................................................................*\n",
      "*Br   16 :fitted_time : vector<double>                                       *\n",
      "*Entries :     8436 : Total  Size=   10127989 bytes  File Size  =     214614 *\n",
      "*Baskets :      260 : Basket Size=    4648448 bytes  Compression=  47.17     *\n",
      "*............................................................................*\n",
      "*Br   17 :chi2ndf   : vector<double>                                         *\n",
      "*Entries :     8436 : Total  Size=   10126933 bytes  File Size  =     213604 *\n",
      "*Baskets :      260 : Basket Size=    4647936 bytes  Compression=  47.38     *\n",
      "*............................................................................*\n"
     ]
    }
   ],
   "source": [
    "import ROOT\n",
    "f = ROOT.TFile.Open(\"/mnt/data/eos/run307/run307.root\")\n",
    "events = f.Get(\"events\")\n",
    "events.Print()"
   ]
  },
  {
   "cell_type": "markdown",
   "id": "1609e1af-5fd9-4a65-83fb-0981aca39ff3",
   "metadata": {},
   "source": [
    "### PMT Hits Map ###\n",
    "The code block will open the root data file and grab the branches (some of these are vectors).<br>\n",
    "Then loop through each of the event and hit and make a histogram out of the number of hits for each PMT.<br>\n",
    "Then the map of Board# vs Channel are made.<br>\n",
    "Board 14 Channel 12 to Board 15 Channel 14 are those will Muon paddle outputs.<br>"
   ]
  },
  {
   "cell_type": "code",
   "execution_count": 13,
   "id": "3f1d1683-1dfa-405d-8b0d-47119a1a8c7f",
   "metadata": {},
   "outputs": [
    {
     "data": {
      "image/png": "[encoded data removed]",
      "text/plain": [
       "<Figure size 850x800 with 2 Axes>"
      ]
     },
     "metadata": {},
     "output_type": "display_data"
    },
    {
     "name": "stdout",
     "output_type": "stream",
     "text": [
      "nMuonHits nTotalHits nMuonHits/nTotalHits\n",
      "236391.0 22503540.0 0.01050461394073999\n",
      "Hits in B14C11-B15-C14\n",
      "[[116310.   2547.    770.    273.]\n",
      " [115499.    289.    475.    228.]]\n"
     ]
    }
   ],
   "source": [
    "import ROOT\n",
    "import numpy as np\n",
    "import matplotlib.pyplot as plt\n",
    "import matplotlib.colors as colors\n",
    "import pandas as pd\n",
    "\n",
    "run_number = \"314\"\n",
    "\n",
    "rdf = ROOT.RDataFrame(\"events\",\"/mnt/data/eos/run\"+run_number+\"/run\"+run_number+\".root\")\n",
    "nhit = rdf.AsNumpy(columns=[\"nhit\"])[\"nhit\"]\n",
    "event_number = rdf.AsNumpy(columns=[\"event_number\"])[\"event_number\"]\n",
    "board = rdf.AsNumpy(columns=[\"board\"])[\"board\"]\n",
    "channel = rdf.AsNumpy(columns=[\"channel\"])[\"channel\"]\n",
    "charge = rdf.AsNumpy(columns=[\"charge\"])[\"charge\"]\n",
    "\n",
    "#print(len(charge[0]))\n",
    "#print(nhit[0])\n",
    "\n",
    "PMTHits = np.zeros([17,16])\n",
    "#print(PMTHits.shape)\n",
    "for iEvt in range(0,len(event_number)):\n",
    "    #print(len(board[aEvt]),len(channel[aEvt]), nhit[aEvt])\n",
    "    for iHit in range(0,len(board[iEvt])):\n",
    "        #print(board[iEvt][iHit])\n",
    "        PMTHits[board[iEvt][iHit],channel[iEvt][iHit]]=PMTHits[board[iEvt][iHit],channel[iEvt][iHit]]+1\n",
    "\n",
    "plt.figure(figsize=(17/2,16/2))\n",
    "plt.imshow(PMTHits, cmap='jet',norm=colors.LogNorm())\n",
    "plt.title(\"Total Number of Hits in Run \"+run_number+\" for each CAEN Board vs Channel\")\n",
    "plt.xlabel(\"Channel #\")\n",
    "plt.ylabel(\"Board #\")\n",
    "plt.colorbar()\n",
    "plt.show()\n",
    "\n",
    "nMuonHits = np.sum(PMTHits[14:16,11:15])\n",
    "nTotalHits= np.sum(PMTHits)\n",
    "print(\"nMuonHits nTotalHits nMuonHits/nTotalHits\")\n",
    "print(nMuonHits,nTotalHits,nMuonHits/nTotalHits)\n",
    "print(\"nhits in B14C11-B15-C14\")\n",
    "print(PMTHits[14:16,11:15])\n"
   ]
  },
  {
   "cell_type": "markdown",
   "id": "a9b4c906-2f5b-478e-be37-e716e5f6225f",
   "metadata": {},
   "source": [
    "### Now, let's see if we can get coincidences of the paddles.\n",
    "The code opens the file, grab the branches<br>\n",
    "Then it loops through each event.\n",
    "Create a 2x3 array (for the 6 powered up muon paddles) for each event.\n",
    "Then fill the array with whether or not a hit occur"
   ]
  },
  {
   "cell_type": "code",
   "execution_count": 23,
   "id": "c47572f0-dca1-4a3c-a5a1-03b8ce37c972",
   "metadata": {},
   "outputs": [
    {
     "name": "stdout",
     "output_type": "stream",
     "text": [
      "Double! 1014\n",
      "Double! 6099\n",
      "Double! 8588\n",
      "Double! 16826\n",
      "Double! 32381\n",
      "Double! 33544\n",
      "Double! 46757\n",
      "Double! 87348\n",
      "Double! 109366\n",
      "Double! 112885\n",
      "Double! 129454\n",
      "Double! 143183\n",
      "Double! 176486\n",
      "Double! 200019\n",
      "Double! 224787\n",
      "Double! 227238\n",
      "Double! 232597\n",
      "Double! 249978\n",
      "Double! 319009\n",
      "Double! 321060\n",
      "Double! 345565\n",
      "Double! 363484\n",
      "Double! 403494\n",
      "Double! 406236\n"
     ]
    }
   ],
   "source": [
    "import ROOT\n",
    "import numpy as np\n",
    "import matplotlib.pyplot as plt\n",
    "import matplotlib.colors as colors\n",
    "\n",
    "run_number = \"314\"\n",
    "\n",
    "rdf = ROOT.RDataFrame(\"events\",\"/mnt/data/eos/run\"+run_number+\"/run\"+run_number+\".root\")\n",
    "nhit = rdf.AsNumpy(columns=[\"nhit\"])[\"nhit\"]\n",
    "event_number = rdf.AsNumpy(columns=[\"event_number\"])[\"event_number\"]\n",
    "board = rdf.AsNumpy(columns=[\"board\"])[\"board\"]\n",
    "channel = rdf.AsNumpy(columns=[\"channel\"])[\"channel\"]\n",
    "charge = rdf.AsNumpy(columns=[\"charge\"])[\"charge\"]\n",
    "\n",
    "for iEvt in range(0,len(event_number)):\n",
    "    MuonHits = np.zeros([2,3])\n",
    "    for iHit in range(0,len(board[iEvt])):\n",
    "        if(board[iEvt][iHit] == 14 and channel[iEvt][iHit] == 12):\n",
    "           MuonHits[0,0]=1\n",
    "        if(board[iEvt][iHit] == 14 and channel[iEvt][iHit] == 13):\n",
    "           MuonHits[0,1]=1\n",
    "       \n",
    "        if(board[iEvt][iHit] == 14 and channel[iEvt][iHit] == 14):\n",
    "           MuonHits[0,2]=1\n",
    "\n",
    "        if(board[iEvt][iHit] == 15 and channel[iEvt][iHit] == 12):\n",
    "           MuonHits[1,0]=1\n",
    "        \n",
    "        if(board[iEvt][iHit] == 15 and channel[iEvt][iHit] == 13):\n",
    "           MuonHits[1,1]=1\n",
    "       \n",
    "        if(board[iEvt][iHit] == 15 and channel[iEvt][iHit] == 14):\n",
    "           MuonHits[1,2]=1\n",
    "\n",
    "\n",
    "    if(MuonHits[1,0] or MuonHits[1,2]):\n",
    "        if(MuonHits[1,1] or MuonHits[0,2]):\n",
    "            print(\"Double!\",iEvt)\n",
    "            if(MuonHits[0,0] or MuonHits[0,1]):\n",
    "                print(\"Triple!\",iEvt)\n",
    "\n",
    "    \n"
   ]
  },
  {
   "cell_type": "code",
   "execution_count": null,
   "id": "d7afe135-4357-4c2b-8e32-bbb1f1f66cbc",
   "metadata": {},
   "outputs": [],
   "source": []
  }
 ],
 "metadata": {
  "kernelspec": {
   "display_name": "Python 3 (ipykernel)",
   "language": "python",
   "name": "python3"
  },
  "language_info": {
   "codemirror_mode": {
    "name": "ipython",
    "version": 3
   },
   "file_extension": ".py",
   "mimetype": "text/x-python",
   "name": "python",
   "nbconvert_exporter": "python",
   "pygments_lexer": "ipython3",
   "version": "3.10.12"
  }
 },
 "nbformat": 4,
 "nbformat_minor": 5
}
