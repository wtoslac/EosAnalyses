{
 "cells": [
  {
   "cell_type": "code",
   "execution_count": 18,
   "id": "0b3a0b1e-fb40-4be2-b5ce-caddf3d3991b",
   "metadata": {},
   "outputs": [
    {
     "name": "stderr",
     "output_type": "stream",
     "text": [
      "[IncrementalJIT] addModule() failed: Duplicate definition of symbol '_ZN21__ROOT_SpecialObjects6outputE'\n",
      "\u001b[1minput_line_88:3:10: \u001b[0m\u001b[0;1;31merror: \u001b[0m\u001b[1m'TTree' does not refer to a value\u001b[0m\n",
      "output = TTree*(myFile->Get(\"output\"));\n",
      "\u001b[0;1;32m         ^\n",
      "\u001b[0m\u001b[1m/home/wto/root/include/ROOT/RFriendInfo.hxx:32:7: \u001b[0m\u001b[0;1;30mnote: \u001b[0mdeclared here\u001b[0m\n",
      "class TTree;\n",
      "\u001b[0;1;32m      ^\n",
      "\u001b[0m"
     ]
    }
   ],
   "source": [
    "std::unique_ptr<TFile> myFile( TFile::Open(\"output.ntuple.root\") );\n",
    "output = TTree*(myFile->Get(\"output\"));\n",
    "//c = ROOT.TCanvas(\"myCanvasName\",\"The Canvas Title\",800,600)\n",
    "//output.Draw(\"nhits\")\n",
    "//c.Draw()"
   ]
  },
  {
   "cell_type": "code",
   "execution_count": null,
   "id": "d31e0ab3-dc1d-41cc-8a49-57cff3b9d058",
   "metadata": {},
   "outputs": [],
   "source": []
  }
 ],
 "metadata": {
  "kernelspec": {
   "display_name": "ROOT C++",
   "language": "c++",
   "name": "root"
  },
  "language_info": {
   "codemirror_mode": "text/x-c++src",
   "file_extension": ".C",
   "mimetype": " text/x-c++src",
   "name": "c++"
  }
 },
 "nbformat": 4,
 "nbformat_minor": 5
}
